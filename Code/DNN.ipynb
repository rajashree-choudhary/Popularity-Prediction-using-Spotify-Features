{
 "cells": [
  {
   "cell_type": "code",
   "execution_count": 2,
   "id": "c86151fa-8309-48c6-94ae-3f69d930c70b",
   "metadata": {
    "tags": []
   },
   "outputs": [
    {
     "name": "stderr",
     "output_type": "stream",
     "text": [
      "2024-03-20 17:15:01.804338: I tensorflow/core/platform/cpu_feature_guard.cc:210] This TensorFlow binary is optimized to use available CPU instructions in performance-critical operations.\n",
      "To enable the following instructions: AVX2 FMA, in other operations, rebuild TensorFlow with the appropriate compiler flags.\n"
     ]
    }
   ],
   "source": [
    "import numpy as np\n",
    "import pandas as pd\n",
    "import matplotlib.pyplot as plt\n",
    "\n",
    "from sklearn.model_selection import train_test_split\n",
    "from sklearn.preprocessing import StandardScaler\n",
    "\n",
    "from tensorflow.keras.models import Sequential\n",
    "from tensorflow.keras.layers import Dense, Dropout"
   ]
  },
  {
   "cell_type": "code",
   "execution_count": null,
   "id": "9b412c04-9392-4f92-9082-2a4f99be4abe",
   "metadata": {},
   "outputs": [],
   "source": []
  },
  {
   "cell_type": "code",
   "execution_count": 5,
   "id": "5d1e22c9-a74e-4482-b2fa-b70c62d5d920",
   "metadata": {
    "tags": []
   },
   "outputs": [
    {
     "data": {
      "text/html": [
       "<div>\n",
       "<style scoped>\n",
       "    .dataframe tbody tr th:only-of-type {\n",
       "        vertical-align: middle;\n",
       "    }\n",
       "\n",
       "    .dataframe tbody tr th {\n",
       "        vertical-align: top;\n",
       "    }\n",
       "\n",
       "    .dataframe thead th {\n",
       "        text-align: right;\n",
       "    }\n",
       "</style>\n",
       "<table border=\"1\" class=\"dataframe\">\n",
       "  <thead>\n",
       "    <tr style=\"text-align: right;\">\n",
       "      <th></th>\n",
       "      <th>popularity</th>\n",
       "      <th>acousticness</th>\n",
       "      <th>danceability</th>\n",
       "      <th>energy</th>\n",
       "      <th>instrumentalness</th>\n",
       "      <th>liveness</th>\n",
       "      <th>loudness</th>\n",
       "      <th>mode</th>\n",
       "      <th>speechiness</th>\n",
       "      <th>tempo</th>\n",
       "      <th>...</th>\n",
       "      <th>key_B</th>\n",
       "      <th>key_C</th>\n",
       "      <th>key_C#</th>\n",
       "      <th>key_D</th>\n",
       "      <th>key_D#</th>\n",
       "      <th>key_E</th>\n",
       "      <th>key_F</th>\n",
       "      <th>key_F#</th>\n",
       "      <th>key_G</th>\n",
       "      <th>key_G#</th>\n",
       "    </tr>\n",
       "  </thead>\n",
       "  <tbody>\n",
       "    <tr>\n",
       "      <th>0</th>\n",
       "      <td>13</td>\n",
       "      <td>0.234</td>\n",
       "      <td>0.617</td>\n",
       "      <td>0.862</td>\n",
       "      <td>0.976000</td>\n",
       "      <td>0.1410</td>\n",
       "      <td>-12.855</td>\n",
       "      <td>1</td>\n",
       "      <td>0.0514</td>\n",
       "      <td>129.578</td>\n",
       "      <td>...</td>\n",
       "      <td>0</td>\n",
       "      <td>0</td>\n",
       "      <td>0</td>\n",
       "      <td>0</td>\n",
       "      <td>0</td>\n",
       "      <td>0</td>\n",
       "      <td>0</td>\n",
       "      <td>0</td>\n",
       "      <td>1</td>\n",
       "      <td>0</td>\n",
       "    </tr>\n",
       "    <tr>\n",
       "      <th>1</th>\n",
       "      <td>5</td>\n",
       "      <td>0.249</td>\n",
       "      <td>0.518</td>\n",
       "      <td>0.805</td>\n",
       "      <td>0.000000</td>\n",
       "      <td>0.3330</td>\n",
       "      <td>-6.248</td>\n",
       "      <td>1</td>\n",
       "      <td>0.0407</td>\n",
       "      <td>79.124</td>\n",
       "      <td>...</td>\n",
       "      <td>0</td>\n",
       "      <td>0</td>\n",
       "      <td>0</td>\n",
       "      <td>0</td>\n",
       "      <td>0</td>\n",
       "      <td>0</td>\n",
       "      <td>1</td>\n",
       "      <td>0</td>\n",
       "      <td>0</td>\n",
       "      <td>0</td>\n",
       "    </tr>\n",
       "    <tr>\n",
       "      <th>2</th>\n",
       "      <td>30</td>\n",
       "      <td>0.366</td>\n",
       "      <td>0.631</td>\n",
       "      <td>0.513</td>\n",
       "      <td>0.000004</td>\n",
       "      <td>0.1090</td>\n",
       "      <td>-6.376</td>\n",
       "      <td>1</td>\n",
       "      <td>0.0293</td>\n",
       "      <td>120.365</td>\n",
       "      <td>...</td>\n",
       "      <td>0</td>\n",
       "      <td>0</td>\n",
       "      <td>0</td>\n",
       "      <td>1</td>\n",
       "      <td>0</td>\n",
       "      <td>0</td>\n",
       "      <td>0</td>\n",
       "      <td>0</td>\n",
       "      <td>0</td>\n",
       "      <td>0</td>\n",
       "    </tr>\n",
       "    <tr>\n",
       "      <th>3</th>\n",
       "      <td>39</td>\n",
       "      <td>0.815</td>\n",
       "      <td>0.768</td>\n",
       "      <td>0.137</td>\n",
       "      <td>0.922000</td>\n",
       "      <td>0.1130</td>\n",
       "      <td>-13.284</td>\n",
       "      <td>0</td>\n",
       "      <td>0.0747</td>\n",
       "      <td>76.430</td>\n",
       "      <td>...</td>\n",
       "      <td>0</td>\n",
       "      <td>0</td>\n",
       "      <td>1</td>\n",
       "      <td>0</td>\n",
       "      <td>0</td>\n",
       "      <td>0</td>\n",
       "      <td>0</td>\n",
       "      <td>0</td>\n",
       "      <td>0</td>\n",
       "      <td>0</td>\n",
       "    </tr>\n",
       "    <tr>\n",
       "      <th>4</th>\n",
       "      <td>70</td>\n",
       "      <td>0.131</td>\n",
       "      <td>0.748</td>\n",
       "      <td>0.627</td>\n",
       "      <td>0.000000</td>\n",
       "      <td>0.0852</td>\n",
       "      <td>-6.029</td>\n",
       "      <td>1</td>\n",
       "      <td>0.0644</td>\n",
       "      <td>120.963</td>\n",
       "      <td>...</td>\n",
       "      <td>0</td>\n",
       "      <td>0</td>\n",
       "      <td>0</td>\n",
       "      <td>0</td>\n",
       "      <td>0</td>\n",
       "      <td>0</td>\n",
       "      <td>0</td>\n",
       "      <td>0</td>\n",
       "      <td>1</td>\n",
       "      <td>0</td>\n",
       "    </tr>\n",
       "  </tbody>\n",
       "</table>\n",
       "<p>5 rows × 50 columns</p>\n",
       "</div>"
      ],
      "text/plain": [
       "   popularity  acousticness  danceability  energy  instrumentalness  liveness  \\\n",
       "0          13         0.234         0.617   0.862          0.976000    0.1410   \n",
       "1           5         0.249         0.518   0.805          0.000000    0.3330   \n",
       "2          30         0.366         0.631   0.513          0.000004    0.1090   \n",
       "3          39         0.815         0.768   0.137          0.922000    0.1130   \n",
       "4          70         0.131         0.748   0.627          0.000000    0.0852   \n",
       "\n",
       "   loudness  mode  speechiness    tempo  ...  key_B  key_C  key_C#  key_D  \\\n",
       "0   -12.855     1       0.0514  129.578  ...      0      0       0      0   \n",
       "1    -6.248     1       0.0407   79.124  ...      0      0       0      0   \n",
       "2    -6.376     1       0.0293  120.365  ...      0      0       0      1   \n",
       "3   -13.284     0       0.0747   76.430  ...      0      0       1      0   \n",
       "4    -6.029     1       0.0644  120.963  ...      0      0       0      0   \n",
       "\n",
       "   key_D#  key_E  key_F  key_F#  key_G  key_G#  \n",
       "0       0      0      0       0      1       0  \n",
       "1       0      0      1       0      0       0  \n",
       "2       0      0      0       0      0       0  \n",
       "3       0      0      0       0      0       0  \n",
       "4       0      0      0       0      1       0  \n",
       "\n",
       "[5 rows x 50 columns]"
      ]
     },
     "execution_count": 5,
     "metadata": {},
     "output_type": "execute_result"
    }
   ],
   "source": [
    "spotify = pd.read_csv('./Data/Cleaned_SpotifyFeatures-Copy1.csv')\n",
    "spotify.head()"
   ]
  },
  {
   "cell_type": "code",
   "execution_count": 6,
   "id": "f05dde7d-38c1-47b9-8ea2-876ca9162207",
   "metadata": {
    "tags": []
   },
   "outputs": [
    {
     "data": {
      "text/plain": [
       "popularity\n",
       "1    0.567331\n",
       "0    0.393900\n",
       "2    0.038769\n",
       "Name: proportion, dtype: float64"
      ]
     },
     "execution_count": 6,
     "metadata": {},
     "output_type": "execute_result"
    }
   ],
   "source": [
    "#Creating oridinal classifications for spotify popularity\n",
    "spotify['popularity'] = np.where(spotify['popularity'] <= 33, 0, spotify['popularity']) \n",
    "spotify['popularity'] = np.where((spotify['popularity'] >= 34) & (spotify['popularity'] <= 66), 1, spotify['popularity']) \n",
    "spotify['popularity'] = np.where(spotify['popularity'] >= 67, 2, spotify['popularity']) \n",
    "\n",
    "spotify['popularity'].value_counts(normalize=True)"
   ]
  },
  {
   "cell_type": "code",
   "execution_count": 49,
   "id": "fc30bfa9-a001-4ba6-999f-d86024807218",
   "metadata": {
    "tags": []
   },
   "outputs": [],
   "source": [
    "#Assigning my X and y\n",
    "X = spotify.drop('popularity', axis=1)\n",
    "y = spotify['popularity']\n",
    "\n",
    "#Train test splitting\n",
    "X_train, X_test, y_train, y_test = train_test_split(X, y, random_state=123)\n",
    "\n",
    "#Scaling the data\n",
    "sc = StandardScaler()\n",
    "X_train_sc = sc.fit_transform(X_train)\n",
    "X_test_sc = sc.transform(X_test)"
   ]
  },
  {
   "cell_type": "code",
   "execution_count": 50,
   "id": "4fb28f24-6689-47cd-b16b-bfba08267f52",
   "metadata": {
    "tags": []
   },
   "outputs": [
    {
     "data": {
      "text/plain": [
       "(143292, 49)"
      ]
     },
     "execution_count": 50,
     "metadata": {},
     "output_type": "execute_result"
    }
   ],
   "source": [
    "X_train.shape"
   ]
  },
  {
   "cell_type": "code",
   "execution_count": 51,
   "id": "3a373eea-8ada-46e1-aec2-03c2f05de1c0",
   "metadata": {
    "tags": []
   },
   "outputs": [
    {
     "name": "stderr",
     "output_type": "stream",
     "text": [
      "/Users/dillondiatlo/anaconda3/lib/python3.11/site-packages/keras/src/layers/core/dense.py:85: UserWarning: Do not pass an `input_shape`/`input_dim` argument to a layer. When using Sequential models, prefer using an `Input(shape)` object as the first layer in the model instead.\n",
      "  super().__init__(activity_regularizer=activity_regularizer, **kwargs)\n"
     ]
    }
   ],
   "source": [
    "#Creating dnn1\n",
    "col = X_train.shape[1]\n",
    "dnn1 = Sequential()\n",
    "dnn1.add(Dense(100, activation='relu', input_shape=(col,)))\n",
    "dnn1.add(Dense(50, activation='relu'))\n",
    "dnn1.add(Dense(5, activation='softmax'))\n",
    "\n",
    "#Compiling Model\n",
    "dnn1.compile(loss='crossentropy', optimizer='rmsprop', metrics=['acc'])"
   ]
  },
  {
   "cell_type": "code",
   "execution_count": 52,
   "id": "f1c99f3c-e653-47dc-8514-21dfdb76398e",
   "metadata": {
    "tags": []
   },
   "outputs": [
    {
     "name": "stdout",
     "output_type": "stream",
     "text": [
      "Epoch 1/10\n",
      "\u001b[1m4478/4478\u001b[0m \u001b[32m━━━━━━━━━━━━━━━━━━━━\u001b[0m\u001b[37m\u001b[0m \u001b[1m6s\u001b[0m 1ms/step - acc: 0.7741 - loss: 0.4723 - val_acc: 0.7917 - val_loss: 0.4236\n",
      "Epoch 2/10\n",
      "\u001b[1m4478/4478\u001b[0m \u001b[32m━━━━━━━━━━━━━━━━━━━━\u001b[0m\u001b[37m\u001b[0m \u001b[1m5s\u001b[0m 1ms/step - acc: 0.7896 - loss: 0.4286 - val_acc: 0.7924 - val_loss: 0.4254\n",
      "Epoch 3/10\n",
      "\u001b[1m4478/4478\u001b[0m \u001b[32m━━━━━━━━━━━━━━━━━━━━\u001b[0m\u001b[37m\u001b[0m \u001b[1m6s\u001b[0m 1ms/step - acc: 0.7895 - loss: 0.4281 - val_acc: 0.7915 - val_loss: 0.4285\n",
      "Epoch 4/10\n",
      "\u001b[1m4478/4478\u001b[0m \u001b[32m━━━━━━━━━━━━━━━━━━━━\u001b[0m\u001b[37m\u001b[0m \u001b[1m6s\u001b[0m 1ms/step - acc: 0.7920 - loss: 0.4263 - val_acc: 0.7919 - val_loss: 0.4255\n",
      "Epoch 5/10\n",
      "\u001b[1m4478/4478\u001b[0m \u001b[32m━━━━━━━━━━━━━━━━━━━━\u001b[0m\u001b[37m\u001b[0m \u001b[1m5s\u001b[0m 1ms/step - acc: 0.7921 - loss: 0.4291 - val_acc: 0.7921 - val_loss: 0.4390\n",
      "Epoch 6/10\n",
      "\u001b[1m4478/4478\u001b[0m \u001b[32m━━━━━━━━━━━━━━━━━━━━\u001b[0m\u001b[37m\u001b[0m \u001b[1m5s\u001b[0m 1ms/step - acc: 0.7909 - loss: 0.4333 - val_acc: 0.7911 - val_loss: 0.4295\n",
      "Epoch 7/10\n",
      "\u001b[1m4478/4478\u001b[0m \u001b[32m━━━━━━━━━━━━━━━━━━━━\u001b[0m\u001b[37m\u001b[0m \u001b[1m5s\u001b[0m 1ms/step - acc: 0.7967 - loss: 0.4260 - val_acc: 0.7911 - val_loss: 0.4247\n",
      "Epoch 8/10\n",
      "\u001b[1m4478/4478\u001b[0m \u001b[32m━━━━━━━━━━━━━━━━━━━━\u001b[0m\u001b[37m\u001b[0m \u001b[1m6s\u001b[0m 1ms/step - acc: 0.7925 - loss: 0.4326 - val_acc: 0.7906 - val_loss: 0.4291\n",
      "Epoch 9/10\n",
      "\u001b[1m4478/4478\u001b[0m \u001b[32m━━━━━━━━━━━━━━━━━━━━\u001b[0m\u001b[37m\u001b[0m \u001b[1m6s\u001b[0m 1ms/step - acc: 0.7928 - loss: 0.4300 - val_acc: 0.7878 - val_loss: 0.4355\n",
      "Epoch 10/10\n",
      "\u001b[1m4478/4478\u001b[0m \u001b[32m━━━━━━━━━━━━━━━━━━━━\u001b[0m\u001b[37m\u001b[0m \u001b[1m6s\u001b[0m 1ms/step - acc: 0.7904 - loss: 0.4357 - val_acc: 0.7947 - val_loss: 0.4284\n"
     ]
    }
   ],
   "source": [
    "#Fitting the model\n",
    "hist1 = dnn1.fit(\n",
    "    X_train_sc, y_train,\n",
    "    validation_data=(X_test_sc, y_test),\n",
    "    batch_size=32,\n",
    "    epochs=10\n",
    ")"
   ]
  },
  {
   "cell_type": "code",
   "execution_count": 65,
   "id": "1f0c445d-09b1-4576-b256-b049d8357bd8",
   "metadata": {
    "tags": []
   },
   "outputs": [
    {
     "data": {
      "text/plain": [
       "[<matplotlib.lines.Line2D at 0x1476746d0>]"
      ]
     },
     "execution_count": 65,
     "metadata": {},
     "output_type": "execute_result"
    },
    {
     "data": {
      "image/png": "[encoded data removed]",
      "text/plain": [
       "<Figure size 1200x800 with 1 Axes>"
      ]
     },
     "metadata": {},
     "output_type": "display_data"
    }
   ],
   "source": [
    "train_loss1 = hist.history['loss']\n",
    "test_loss1 = hist.history['val_loss']\n",
    "\n",
    "plt.figure(figsize=(12, 8))\n",
    "plt.plot(train_loss1, label='Training loss', color='navy')\n",
    "plt.plot(test_loss1, label='Testing loss', color='skyblue')"
   ]
  },
  {
   "cell_type": "code",
   "execution_count": 61,
   "id": "ed81572e-164e-4474-80bd-c31567fc854b",
   "metadata": {
    "tags": []
   },
   "outputs": [
    {
     "name": "stdout",
     "output_type": "stream",
     "text": [
      "Epoch 1/10\n",
      "\u001b[1m4478/4478\u001b[0m \u001b[32m━━━━━━━━━━━━━━━━━━━━\u001b[0m\u001b[37m\u001b[0m \u001b[1m8s\u001b[0m 2ms/step - acc: 0.6777 - loss: 0.7394 - val_acc: 0.7839 - val_loss: 0.4629\n",
      "Epoch 2/10\n",
      "\u001b[1m4478/4478\u001b[0m \u001b[32m━━━━━━━━━━━━━━━━━━━━\u001b[0m\u001b[37m\u001b[0m \u001b[1m7s\u001b[0m 1ms/step - acc: 0.7674 - loss: 0.5360 - val_acc: 0.7891 - val_loss: 0.4615\n",
      "Epoch 3/10\n",
      "\u001b[1m4478/4478\u001b[0m \u001b[32m━━━━━━━━━━━━━━━━━━━━\u001b[0m\u001b[37m\u001b[0m \u001b[1m6s\u001b[0m 1ms/step - acc: 0.7709 - loss: 0.5222 - val_acc: 0.7892 - val_loss: 0.4576\n",
      "Epoch 4/10\n",
      "\u001b[1m4478/4478\u001b[0m \u001b[32m━━━━━━━━━━━━━━━━━━━━\u001b[0m\u001b[37m\u001b[0m \u001b[1m7s\u001b[0m 1ms/step - acc: 0.7713 - loss: 0.5205 - val_acc: 0.7885 - val_loss: 0.4604\n",
      "Epoch 5/10\n",
      "\u001b[1m4478/4478\u001b[0m \u001b[32m━━━━━━━━━━━━━━━━━━━━\u001b[0m\u001b[37m\u001b[0m \u001b[1m8s\u001b[0m 2ms/step - acc: 0.7704 - loss: 0.5201 - val_acc: 0.7870 - val_loss: 0.4487\n",
      "Epoch 6/10\n",
      "\u001b[1m4478/4478\u001b[0m \u001b[32m━━━━━━━━━━━━━━━━━━━━\u001b[0m\u001b[37m\u001b[0m \u001b[1m6s\u001b[0m 1ms/step - acc: 0.7775 - loss: 0.5165 - val_acc: 0.7897 - val_loss: 0.4673\n",
      "Epoch 7/10\n",
      "\u001b[1m4478/4478\u001b[0m \u001b[32m━━━━━━━━━━━━━━━━━━━━\u001b[0m\u001b[37m\u001b[0m \u001b[1m7s\u001b[0m 1ms/step - acc: 0.7778 - loss: 0.5156 - val_acc: 0.7857 - val_loss: 0.4480\n",
      "Epoch 8/10\n",
      "\u001b[1m4478/4478\u001b[0m \u001b[32m━━━━━━━━━━━━━━━━━━━━\u001b[0m\u001b[37m\u001b[0m \u001b[1m7s\u001b[0m 2ms/step - acc: 0.7784 - loss: 0.5141 - val_acc: 0.7877 - val_loss: 0.4487\n",
      "Epoch 9/10\n",
      "\u001b[1m4478/4478\u001b[0m \u001b[32m━━━━━━━━━━━━━━━━━━━━\u001b[0m\u001b[37m\u001b[0m \u001b[1m8s\u001b[0m 2ms/step - acc: 0.7798 - loss: 0.5161 - val_acc: 0.7891 - val_loss: 0.4596\n",
      "Epoch 10/10\n",
      "\u001b[1m4478/4478\u001b[0m \u001b[32m━━━━━━━━━━━━━━━━━━━━\u001b[0m\u001b[37m\u001b[0m \u001b[1m8s\u001b[0m 2ms/step - acc: 0.7775 - loss: 0.5159 - val_acc: 0.7881 - val_loss: 0.4580\n"
     ]
    }
   ],
   "source": [
    "#Creating dnn2\n",
    "col = X_train.shape[1]\n",
    "dnn2 = Sequential()\n",
    "dnn2.add(Dense(80, activation='relu', input_shape=(col,)))\n",
    "dnn2.add(Dropout(0.5))\n",
    "dnn2.add(Dense(30, activation='relu'))\n",
    "dnn2.add(Dropout(0.5))\n",
    "dnn2.add(Dense(15, activation='relu'))\n",
    "dnn2.add(Dropout(0.5))\n",
    "dnn2.add(Dense(5, activation='softmax'))\n",
    "\n",
    "#Compiling dnn2\n",
    "dnn2.compile(loss='crossentropy', optimizer='rmsprop', metrics=['acc'])\n",
    "\n",
    "#Fitting the model\n",
    "hist2 = dnn2.fit(\n",
    "    X_train_sc, y_train,\n",
    "    validation_data=(X_test_sc, y_test),\n",
    "    batch_size=32,\n",
    "    epochs=10\n",
    ")"
   ]
  },
  {
   "cell_type": "code",
   "execution_count": 57,
   "id": "935eafc6-7c47-4994-af97-715689b358bb",
   "metadata": {
    "tags": []
   },
   "outputs": [],
   "source": [
    "#Importing l2\n",
    "from tensorflow.keras.regularizers import l2"
   ]
  },
  {
   "cell_type": "code",
   "execution_count": 62,
   "id": "6e57358b-df86-47f5-aa21-0205561eff44",
   "metadata": {
    "tags": []
   },
   "outputs": [
    {
     "name": "stdout",
     "output_type": "stream",
     "text": [
      "Epoch 1/10\n",
      "\u001b[1m4478/4478\u001b[0m \u001b[32m━━━━━━━━━━━━━━━━━━━━\u001b[0m\u001b[37m\u001b[0m \u001b[1m8s\u001b[0m 2ms/step - acc: 0.6874 - loss: 0.7948 - val_acc: 0.7879 - val_loss: 0.4638\n",
      "Epoch 2/10\n",
      "\u001b[1m4478/4478\u001b[0m \u001b[32m━━━━━━━━━━━━━━━━━━━━\u001b[0m\u001b[37m\u001b[0m \u001b[1m7s\u001b[0m 2ms/step - acc: 0.7801 - loss: 0.4978 - val_acc: 0.7886 - val_loss: 0.4473\n",
      "Epoch 3/10\n",
      "\u001b[1m4478/4478\u001b[0m \u001b[32m━━━━━━━━━━━━━━━━━━━━\u001b[0m\u001b[37m\u001b[0m \u001b[1m7s\u001b[0m 2ms/step - acc: 0.7798 - loss: 0.4883 - val_acc: 0.7892 - val_loss: 0.4482\n",
      "Epoch 4/10\n",
      "\u001b[1m4478/4478\u001b[0m \u001b[32m━━━━━━━━━━━━━━━━━━━━\u001b[0m\u001b[37m\u001b[0m \u001b[1m8s\u001b[0m 2ms/step - acc: 0.7799 - loss: 0.4863 - val_acc: 0.7889 - val_loss: 0.4475\n",
      "Epoch 5/10\n",
      "\u001b[1m4478/4478\u001b[0m \u001b[32m━━━━━━━━━━━━━━━━━━━━\u001b[0m\u001b[37m\u001b[0m \u001b[1m7s\u001b[0m 1ms/step - acc: 0.7807 - loss: 0.4838 - val_acc: 0.7882 - val_loss: 0.4469\n",
      "Epoch 6/10\n",
      "\u001b[1m4478/4478\u001b[0m \u001b[32m━━━━━━━━━━━━━━━━━━━━\u001b[0m\u001b[37m\u001b[0m \u001b[1m10s\u001b[0m 2ms/step - acc: 0.7793 - loss: 0.4833 - val_acc: 0.7884 - val_loss: 0.4495\n",
      "Epoch 7/10\n",
      "\u001b[1m4478/4478\u001b[0m \u001b[32m━━━━━━━━━━━━━━━━━━━━\u001b[0m\u001b[37m\u001b[0m \u001b[1m9s\u001b[0m 2ms/step - acc: 0.7814 - loss: 0.4822 - val_acc: 0.7868 - val_loss: 0.4485\n",
      "Epoch 8/10\n",
      "\u001b[1m4478/4478\u001b[0m \u001b[32m━━━━━━━━━━━━━━━━━━━━\u001b[0m\u001b[37m\u001b[0m \u001b[1m8s\u001b[0m 2ms/step - acc: 0.7798 - loss: 0.4812 - val_acc: 0.7885 - val_loss: 0.4457\n",
      "Epoch 9/10\n",
      "\u001b[1m4478/4478\u001b[0m \u001b[32m━━━━━━━━━━━━━━━━━━━━\u001b[0m\u001b[37m\u001b[0m \u001b[1m7s\u001b[0m 2ms/step - acc: 0.7787 - loss: 0.4802 - val_acc: 0.7881 - val_loss: 0.4468\n",
      "Epoch 10/10\n",
      "\u001b[1m4478/4478\u001b[0m \u001b[32m━━━━━━━━━━━━━━━━━━━━\u001b[0m\u001b[37m\u001b[0m \u001b[1m9s\u001b[0m 2ms/step - acc: 0.7779 - loss: 0.4796 - val_acc: 0.7876 - val_loss: 0.4441\n"
     ]
    }
   ],
   "source": [
    "#Creating dnn3\n",
    "col = X_train.shape[1]\n",
    "dnn3 = Sequential()\n",
    "dnn3.add(Dense(100, activation='relu', input_shape=(col,), kernel_regularizer=l2(0.001)))\n",
    "dnn3.add(Dropout(0.5))\n",
    "dnn3.add(Dense(50, activation='relu', kernel_regularizer=l2(0.001)))\n",
    "dnn3.add(Dropout(0.5))\n",
    "dnn3.add(Dense(20, activation='relu', kernel_regularizer=l2(0.001)))\n",
    "dnn3.add(Dropout(0.5))\n",
    "dnn3.add(Dense(5, activation='softmax'))\n",
    "\n",
    "#Compiling dnn2\n",
    "dnn3.compile(loss='crossentropy', optimizer='adam', metrics=['acc'])\n",
    "\n",
    "#Fitting the model\n",
    "hist3 = dnn3.fit(\n",
    "    X_train_sc, y_train,\n",
    "    validation_data=(X_test_sc, y_test),\n",
    "    batch_size=32,\n",
    "    epochs=10\n",
    ")"
   ]
  },
  {
   "cell_type": "code",
   "execution_count": 63,
   "id": "8e0b18dc-e1ee-4ba6-8f74-fb208a145404",
   "metadata": {
    "tags": []
   },
   "outputs": [
    {
     "data": {
      "text/plain": [
       "[<matplotlib.lines.Line2D at 0x146795490>]"
      ]
     },
     "execution_count": 63,
     "metadata": {},
     "output_type": "execute_result"
    },
    {
     "data": {
      "image/png": "[encoded data removed]",
      "text/plain": [
       "<Figure size 1200x800 with 1 Axes>"
      ]
     },
     "metadata": {},
     "output_type": "display_data"
    }
   ],
   "source": [
    "train_loss = hist3.history['loss']\n",
    "test_loss = hist3.history['val_loss']\n",
    "\n",
    "plt.figure(figsize=(12, 8))\n",
    "plt.plot(train_loss, label='Training loss', color='navy')\n",
    "plt.plot(test_loss, label='Testing loss', color='skyblue')"
   ]
  },
  {
   "cell_type": "code",
   "execution_count": 7,
   "id": "dc2500e3-345f-4414-a1bc-fc97737d7b83",
   "metadata": {
    "tags": []
   },
   "outputs": [],
   "source": [
    "#Assigning New X and y\n",
    "X2 = spotify[['loudness', 'genre_Rap', 'genre_Rock', 'genre_Children\\'s Music','genre_Pop', 'energy', 'danceability', 'time_signature', 'tempo', 'valence', 'acousticness', 'instrumentalness', 'liveness', 'mode', 'speechiness']]\n",
    "y2 = spotify['popularity']\n",
    "\n",
    "#Train test splitting\n",
    "X2_train, X2_test, y2_train, y2_test = train_test_split(X2, y2, random_state=123)\n",
    "\n",
    "#Scaling the data\n",
    "sc = StandardScaler()\n",
    "X2_train_sc = sc.fit_transform(X2_train)\n",
    "X2_test_sc = sc.transform(X2_test)"
   ]
  },
  {
   "cell_type": "code",
   "execution_count": 9,
   "id": "ddcfb7d6-86a7-48be-afc3-8e38052ac89b",
   "metadata": {
    "tags": []
   },
   "outputs": [
    {
     "name": "stdout",
     "output_type": "stream",
     "text": [
      "Epoch 1/10\n",
      "\u001b[1m4478/4478\u001b[0m \u001b[32m━━━━━━━━━━━━━━━━━━━━\u001b[0m\u001b[37m\u001b[0m \u001b[1m12s\u001b[0m 2ms/step - acc: 0.6325 - loss: 0.7580 - val_acc: 0.6871 - val_loss: 0.6008\n",
      "Epoch 2/10\n",
      "\u001b[1m4478/4478\u001b[0m \u001b[32m━━━━━━━━━━━━━━━━━━━━\u001b[0m\u001b[37m\u001b[0m \u001b[1m10s\u001b[0m 2ms/step - acc: 0.6868 - loss: 0.6234 - val_acc: 0.6988 - val_loss: 0.5947\n",
      "Epoch 3/10\n",
      "\u001b[1m4478/4478\u001b[0m \u001b[32m━━━━━━━━━━━━━━━━━━━━\u001b[0m\u001b[37m\u001b[0m \u001b[1m10s\u001b[0m 2ms/step - acc: 0.6930 - loss: 0.6120 - val_acc: 0.7010 - val_loss: 0.5921\n",
      "Epoch 4/10\n",
      "\u001b[1m4478/4478\u001b[0m \u001b[32m━━━━━━━━━━━━━━━━━━━━\u001b[0m\u001b[37m\u001b[0m \u001b[1m10s\u001b[0m 2ms/step - acc: 0.6931 - loss: 0.6098 - val_acc: 0.6887 - val_loss: 0.6122\n",
      "Epoch 5/10\n",
      "\u001b[1m4478/4478\u001b[0m \u001b[32m━━━━━━━━━━━━━━━━━━━━\u001b[0m\u001b[37m\u001b[0m \u001b[1m10s\u001b[0m 2ms/step - acc: 0.6952 - loss: 0.6053 - val_acc: 0.6944 - val_loss: 0.5921\n",
      "Epoch 6/10\n",
      "\u001b[1m4478/4478\u001b[0m \u001b[32m━━━━━━━━━━━━━━━━━━━━\u001b[0m\u001b[37m\u001b[0m \u001b[1m10s\u001b[0m 2ms/step - acc: 0.6973 - loss: 0.6041 - val_acc: 0.7040 - val_loss: 0.5873\n",
      "Epoch 7/10\n",
      "\u001b[1m4478/4478\u001b[0m \u001b[32m━━━━━━━━━━━━━━━━━━━━\u001b[0m\u001b[37m\u001b[0m \u001b[1m10s\u001b[0m 2ms/step - acc: 0.6973 - loss: 0.6044 - val_acc: 0.7045 - val_loss: 0.5906\n",
      "Epoch 8/10\n",
      "\u001b[1m4478/4478\u001b[0m \u001b[32m━━━━━━━━━━━━━━━━━━━━\u001b[0m\u001b[37m\u001b[0m \u001b[1m10s\u001b[0m 2ms/step - acc: 0.6988 - loss: 0.6058 - val_acc: 0.7059 - val_loss: 0.5845\n",
      "Epoch 9/10\n",
      "\u001b[1m4478/4478\u001b[0m \u001b[32m━━━━━━━━━━━━━━━━━━━━\u001b[0m\u001b[37m\u001b[0m \u001b[1m10s\u001b[0m 2ms/step - acc: 0.6961 - loss: 0.6044 - val_acc: 0.7049 - val_loss: 0.5870\n",
      "Epoch 10/10\n",
      "\u001b[1m4478/4478\u001b[0m \u001b[32m━━━━━━━━━━━━━━━━━━━━\u001b[0m\u001b[37m\u001b[0m \u001b[1m10s\u001b[0m 2ms/step - acc: 0.6975 - loss: 0.6055 - val_acc: 0.7061 - val_loss: 0.5858\n"
     ]
    }
   ],
   "source": [
    "#Creating dnn4\n",
    "col2 = X2_train.shape[1]\n",
    "dnn4 = Sequential()\n",
    "dnn4.add(Dense(100, activation='relu', input_shape=(col2,)))\n",
    "dnn4.add(Dropout(0.5))\n",
    "dnn4.add(Dense(50, activation='relu'))\n",
    "dnn4.add(Dropout(0.5))\n",
    "dnn4.add(Dense(50, activation='relu'))\n",
    "dnn4.add(Dropout(0.5))\n",
    "dnn4.add(Dense(65, activation='relu'))\n",
    "dnn4.add(Dropout(0.5))\n",
    "dnn4.add(Dense(5, activation='softmax'))\n",
    "\n",
    "#Compiling dnn2\n",
    "dnn4.compile(loss='crossentropy', optimizer='adam', metrics=['acc'])\n",
    "\n",
    "#Fitting the model\n",
    "hist4 = dnn4.fit(\n",
    "    X2_train_sc, y2_train,\n",
    "    validation_data=(X2_test_sc, y2_test),\n",
    "    batch_size=32,\n",
    "    epochs=10\n",
    ")"
   ]
  },
  {
   "cell_type": "code",
   "execution_count": 68,
   "id": "c782b94b-df1b-445f-938a-aaad9103074b",
   "metadata": {
    "tags": []
   },
   "outputs": [
    {
     "data": {
      "text/plain": [
       "Index(['popularity', 'acousticness', 'danceability', 'energy',\n",
       "       'instrumentalness', 'liveness', 'loudness', 'mode', 'speechiness',\n",
       "       'tempo', 'time_signature', 'valence', 'genre_A Capella',\n",
       "       'genre_Alternative', 'genre_Anime', 'genre_Blues',\n",
       "       'genre_Children's Music', 'genre_Children’s Music', 'genre_Classical',\n",
       "       'genre_Comedy', 'genre_Country', 'genre_Dance', 'genre_Electronic',\n",
       "       'genre_Folk', 'genre_Hip-Hop', 'genre_Indie', 'genre_Jazz',\n",
       "       'genre_Movie', 'genre_Opera', 'genre_Pop', 'genre_R&B', 'genre_Rap',\n",
       "       'genre_Reggae', 'genre_Reggaeton', 'genre_Rock', 'genre_Ska',\n",
       "       'genre_Soul', 'genre_Soundtrack', 'genre_World', 'key_A#', 'key_B',\n",
       "       'key_C', 'key_C#', 'key_D', 'key_D#', 'key_E', 'key_F', 'key_F#',\n",
       "       'key_G', 'key_G#'],\n",
       "      dtype='object')"
      ]
     },
     "execution_count": 68,
     "metadata": {},
     "output_type": "execute_result"
    }
   ],
   "source": [
    "spotify.columns"
   ]
  },
  {
   "cell_type": "code",
   "execution_count": 3,
   "id": "0eb88502-91a5-40db-9f98-c78ece1c4d90",
   "metadata": {},
   "outputs": [
    {
     "data": {
      "text/html": [
       "<div>\n",
       "<style scoped>\n",
       "    .dataframe tbody tr th:only-of-type {\n",
       "        vertical-align: middle;\n",
       "    }\n",
       "\n",
       "    .dataframe tbody tr th {\n",
       "        vertical-align: top;\n",
       "    }\n",
       "\n",
       "    .dataframe thead th {\n",
       "        text-align: right;\n",
       "    }\n",
       "</style>\n",
       "<table border=\"1\" class=\"dataframe\">\n",
       "  <thead>\n",
       "    <tr style=\"text-align: right;\">\n",
       "      <th></th>\n",
       "      <th>popularity</th>\n",
       "      <th>acousticness</th>\n",
       "      <th>danceability</th>\n",
       "      <th>energy</th>\n",
       "      <th>instrumentalness</th>\n",
       "      <th>liveness</th>\n",
       "      <th>loudness</th>\n",
       "      <th>mode</th>\n",
       "      <th>speechiness</th>\n",
       "      <th>tempo</th>\n",
       "      <th>...</th>\n",
       "      <th>key_B</th>\n",
       "      <th>key_C</th>\n",
       "      <th>key_C#</th>\n",
       "      <th>key_D</th>\n",
       "      <th>key_D#</th>\n",
       "      <th>key_E</th>\n",
       "      <th>key_F</th>\n",
       "      <th>key_F#</th>\n",
       "      <th>key_G</th>\n",
       "      <th>key_G#</th>\n",
       "    </tr>\n",
       "  </thead>\n",
       "  <tbody>\n",
       "    <tr>\n",
       "      <th>0</th>\n",
       "      <td>0</td>\n",
       "      <td>0.234</td>\n",
       "      <td>0.617</td>\n",
       "      <td>0.862</td>\n",
       "      <td>0.976000</td>\n",
       "      <td>0.1410</td>\n",
       "      <td>-12.855</td>\n",
       "      <td>1</td>\n",
       "      <td>0.0514</td>\n",
       "      <td>129.578</td>\n",
       "      <td>...</td>\n",
       "      <td>0</td>\n",
       "      <td>0</td>\n",
       "      <td>0</td>\n",
       "      <td>0</td>\n",
       "      <td>0</td>\n",
       "      <td>0</td>\n",
       "      <td>0</td>\n",
       "      <td>0</td>\n",
       "      <td>1</td>\n",
       "      <td>0</td>\n",
       "    </tr>\n",
       "    <tr>\n",
       "      <th>1</th>\n",
       "      <td>0</td>\n",
       "      <td>0.249</td>\n",
       "      <td>0.518</td>\n",
       "      <td>0.805</td>\n",
       "      <td>0.000000</td>\n",
       "      <td>0.3330</td>\n",
       "      <td>-6.248</td>\n",
       "      <td>1</td>\n",
       "      <td>0.0407</td>\n",
       "      <td>79.124</td>\n",
       "      <td>...</td>\n",
       "      <td>0</td>\n",
       "      <td>0</td>\n",
       "      <td>0</td>\n",
       "      <td>0</td>\n",
       "      <td>0</td>\n",
       "      <td>0</td>\n",
       "      <td>1</td>\n",
       "      <td>0</td>\n",
       "      <td>0</td>\n",
       "      <td>0</td>\n",
       "    </tr>\n",
       "    <tr>\n",
       "      <th>2</th>\n",
       "      <td>1</td>\n",
       "      <td>0.366</td>\n",
       "      <td>0.631</td>\n",
       "      <td>0.513</td>\n",
       "      <td>0.000004</td>\n",
       "      <td>0.1090</td>\n",
       "      <td>-6.376</td>\n",
       "      <td>1</td>\n",
       "      <td>0.0293</td>\n",
       "      <td>120.365</td>\n",
       "      <td>...</td>\n",
       "      <td>0</td>\n",
       "      <td>0</td>\n",
       "      <td>0</td>\n",
       "      <td>1</td>\n",
       "      <td>0</td>\n",
       "      <td>0</td>\n",
       "      <td>0</td>\n",
       "      <td>0</td>\n",
       "      <td>0</td>\n",
       "      <td>0</td>\n",
       "    </tr>\n",
       "    <tr>\n",
       "      <th>3</th>\n",
       "      <td>1</td>\n",
       "      <td>0.815</td>\n",
       "      <td>0.768</td>\n",
       "      <td>0.137</td>\n",
       "      <td>0.922000</td>\n",
       "      <td>0.1130</td>\n",
       "      <td>-13.284</td>\n",
       "      <td>0</td>\n",
       "      <td>0.0747</td>\n",
       "      <td>76.430</td>\n",
       "      <td>...</td>\n",
       "      <td>0</td>\n",
       "      <td>0</td>\n",
       "      <td>1</td>\n",
       "      <td>0</td>\n",
       "      <td>0</td>\n",
       "      <td>0</td>\n",
       "      <td>0</td>\n",
       "      <td>0</td>\n",
       "      <td>0</td>\n",
       "      <td>0</td>\n",
       "    </tr>\n",
       "    <tr>\n",
       "      <th>4</th>\n",
       "      <td>3</td>\n",
       "      <td>0.131</td>\n",
       "      <td>0.748</td>\n",
       "      <td>0.627</td>\n",
       "      <td>0.000000</td>\n",
       "      <td>0.0852</td>\n",
       "      <td>-6.029</td>\n",
       "      <td>1</td>\n",
       "      <td>0.0644</td>\n",
       "      <td>120.963</td>\n",
       "      <td>...</td>\n",
       "      <td>0</td>\n",
       "      <td>0</td>\n",
       "      <td>0</td>\n",
       "      <td>0</td>\n",
       "      <td>0</td>\n",
       "      <td>0</td>\n",
       "      <td>0</td>\n",
       "      <td>0</td>\n",
       "      <td>1</td>\n",
       "      <td>0</td>\n",
       "    </tr>\n",
       "  </tbody>\n",
       "</table>\n",
       "<p>5 rows × 50 columns</p>\n",
       "</div>"
      ],
      "text/plain": [
       "   popularity  acousticness  danceability  energy  instrumentalness  liveness  \\\n",
       "0           0         0.234         0.617   0.862          0.976000    0.1410   \n",
       "1           0         0.249         0.518   0.805          0.000000    0.3330   \n",
       "2           1         0.366         0.631   0.513          0.000004    0.1090   \n",
       "3           1         0.815         0.768   0.137          0.922000    0.1130   \n",
       "4           3         0.131         0.748   0.627          0.000000    0.0852   \n",
       "\n",
       "   loudness  mode  speechiness    tempo  ...  key_B  key_C  key_C#  key_D  \\\n",
       "0   -12.855     1       0.0514  129.578  ...      0      0       0      0   \n",
       "1    -6.248     1       0.0407   79.124  ...      0      0       0      0   \n",
       "2    -6.376     1       0.0293  120.365  ...      0      0       0      1   \n",
       "3   -13.284     0       0.0747   76.430  ...      0      0       1      0   \n",
       "4    -6.029     1       0.0644  120.963  ...      0      0       0      0   \n",
       "\n",
       "   key_D#  key_E  key_F  key_F#  key_G  key_G#  \n",
       "0       0      0      0       0      1       0  \n",
       "1       0      0      1       0      0       0  \n",
       "2       0      0      0       0      0       0  \n",
       "3       0      0      0       0      0       0  \n",
       "4       0      0      0       0      1       0  \n",
       "\n",
       "[5 rows x 50 columns]"
      ]
     },
     "execution_count": 3,
     "metadata": {},
     "output_type": "execute_result"
    }
   ],
   "source": [
    "spotify2 = pd.read_csv('../Data/Cleaned Data/Cleaned_SpotifyFeatures.csv')\n",
    "\n",
    "\n",
    "spotify2['popularity'] = np.where(spotify2['popularity'] <= 20, 0, spotify2['popularity']) \n",
    "spotify2['popularity'] = np.where((spotify2['popularity'] >= 21) & (spotify2['popularity'] <= 40), 1, spotify2['popularity']) \n",
    "spotify2['popularity'] = np.where((spotify2['popularity'] >= 41) & (spotify2['popularity'] <= 60), 2, spotify2['popularity'])\n",
    "spotify2['popularity'] = np.where((spotify2['popularity'] >= 61) & (spotify2['popularity'] <= 80), 3, spotify2['popularity'])\n",
    "spotify2['popularity'] = np.where(spotify2['popularity'] >= 81, 4, spotify2['popularity']) \n",
    "\n",
    "\n",
    "spotify2.head()"
   ]
  },
  {
   "cell_type": "code",
   "execution_count": 11,
   "id": "c7d23cbb-c50b-4145-8860-49b885d921d1",
   "metadata": {
    "tags": []
   },
   "outputs": [
    {
     "name": "stdout",
     "output_type": "stream",
     "text": [
      "Epoch 1/10\n"
     ]
    },
    {
     "name": "stderr",
     "output_type": "stream",
     "text": [
      "/Users/dillondiatlo/anaconda3/lib/python3.11/site-packages/keras/src/layers/core/dense.py:85: UserWarning: Do not pass an `input_shape`/`input_dim` argument to a layer. When using Sequential models, prefer using an `Input(shape)` object as the first layer in the model instead.\n",
      "  super().__init__(activity_regularizer=activity_regularizer, **kwargs)\n"
     ]
    },
    {
     "name": "stdout",
     "output_type": "stream",
     "text": [
      "\u001b[1m4478/4478\u001b[0m \u001b[32m━━━━━━━━━━━━━━━━━━━━\u001b[0m\u001b[37m\u001b[0m \u001b[1m12s\u001b[0m 2ms/step - acc: 0.4654 - loss: 1.1334 - val_acc: 0.5642 - val_loss: 0.9291\n",
      "Epoch 2/10\n",
      "\u001b[1m4478/4478\u001b[0m \u001b[32m━━━━━━━━━━━━━━━━━━━━\u001b[0m\u001b[37m\u001b[0m \u001b[1m10s\u001b[0m 2ms/step - acc: 0.5544 - loss: 0.9613 - val_acc: 0.5658 - val_loss: 0.9279\n",
      "Epoch 3/10\n",
      "\u001b[1m4478/4478\u001b[0m \u001b[32m━━━━━━━━━━━━━━━━━━━━\u001b[0m\u001b[37m\u001b[0m \u001b[1m10s\u001b[0m 2ms/step - acc: 0.5613 - loss: 0.9489 - val_acc: 0.5699 - val_loss: 0.9250\n",
      "Epoch 4/10\n",
      "\u001b[1m4478/4478\u001b[0m \u001b[32m━━━━━━━━━━━━━━━━━━━━\u001b[0m\u001b[37m\u001b[0m \u001b[1m11s\u001b[0m 2ms/step - acc: 0.5639 - loss: 0.9465 - val_acc: 0.5574 - val_loss: 0.9290\n",
      "Epoch 5/10\n",
      "\u001b[1m4478/4478\u001b[0m \u001b[32m━━━━━━━━━━━━━━━━━━━━\u001b[0m\u001b[37m\u001b[0m \u001b[1m11s\u001b[0m 2ms/step - acc: 0.5673 - loss: 0.9456 - val_acc: 0.5671 - val_loss: 0.9228\n",
      "Epoch 6/10\n",
      "\u001b[1m4478/4478\u001b[0m \u001b[32m━━━━━━━━━━━━━━━━━━━━\u001b[0m\u001b[37m\u001b[0m \u001b[1m10s\u001b[0m 2ms/step - acc: 0.5669 - loss: 0.9453 - val_acc: 0.5760 - val_loss: 0.9213\n",
      "Epoch 7/10\n",
      "\u001b[1m4478/4478\u001b[0m \u001b[32m━━━━━━━━━━━━━━━━━━━━\u001b[0m\u001b[37m\u001b[0m \u001b[1m9s\u001b[0m 2ms/step - acc: 0.5646 - loss: 0.9441 - val_acc: 0.5789 - val_loss: 0.9190\n",
      "Epoch 8/10\n",
      "\u001b[1m4478/4478\u001b[0m \u001b[32m━━━━━━━━━━━━━━━━━━━━\u001b[0m\u001b[37m\u001b[0m \u001b[1m10s\u001b[0m 2ms/step - acc: 0.5681 - loss: 0.9403 - val_acc: 0.5771 - val_loss: 0.9143\n",
      "Epoch 9/10\n",
      "\u001b[1m4478/4478\u001b[0m \u001b[32m━━━━━━━━━━━━━━━━━━━━\u001b[0m\u001b[37m\u001b[0m \u001b[1m10s\u001b[0m 2ms/step - acc: 0.5686 - loss: 0.9406 - val_acc: 0.5789 - val_loss: 0.9154\n",
      "Epoch 10/10\n",
      "\u001b[1m4478/4478\u001b[0m \u001b[32m━━━━━━━━━━━━━━━━━━━━\u001b[0m\u001b[37m\u001b[0m \u001b[1m12s\u001b[0m 3ms/step - acc: 0.5704 - loss: 0.9438 - val_acc: 0.5808 - val_loss: 0.9159\n"
     ]
    }
   ],
   "source": [
    "#Assigning New X and y\n",
    "X3 = spotify2[['loudness', 'genre_Rap', 'genre_Rock', 'genre_Children\\'s Music','genre_Pop', 'energy', 'danceability', 'time_signature', 'tempo', 'valence', 'acousticness', 'instrumentalness', 'liveness', 'mode', 'speechiness']]\n",
    "y3 = spotify2['popularity']\n",
    "\n",
    "#Train test splitting\n",
    "X3_train, X3_test, y3_train, y3_test = train_test_split(X3, y3, random_state=123)\n",
    "\n",
    "#Scaling the data\n",
    "sc = StandardScaler()\n",
    "X3_train_sc = sc.fit_transform(X3_train)\n",
    "X3_test_sc = sc.transform(X3_test)\n",
    "\n",
    "#Creating dnn4\n",
    "col3 = X3_train.shape[1]\n",
    "dnn5 = Sequential()\n",
    "dnn5.add(Dense(100, activation='relu', input_shape=(col3,)))\n",
    "dnn5.add(Dropout(0.5))\n",
    "dnn5.add(Dense(50, activation='relu'))\n",
    "dnn5.add(Dropout(0.5))\n",
    "dnn5.add(Dense(50, activation='relu'))\n",
    "dnn5.add(Dropout(0.5))\n",
    "dnn5.add(Dense(65, activation='relu'))\n",
    "dnn5.add(Dropout(0.5))\n",
    "dnn5.add(Dense(5, activation='softmax'))\n",
    "\n",
    "#Compiling dnn2\n",
    "dnn5.compile(loss='crossentropy', optimizer='adam', metrics=['acc'])\n",
    "\n",
    "#Fitting the model\n",
    "hist5 = dnn5.fit(\n",
    "    X3_train_sc, y3_train,\n",
    "    validation_data=(X3_test_sc, y3_test),\n",
    "    batch_size=32,\n",
    "    epochs=10\n",
    ")"
   ]
  },
  {
   "cell_type": "code",
   "execution_count": 12,
   "id": "f951a980-1684-41af-9c9e-910665ddf2b5",
   "metadata": {
    "tags": []
   },
   "outputs": [
    {
     "name": "stdout",
     "output_type": "stream",
     "text": [
      "Epoch 1/10\n"
     ]
    },
    {
     "name": "stderr",
     "output_type": "stream",
     "text": [
      "/Users/dillondiatlo/anaconda3/lib/python3.11/site-packages/keras/src/layers/core/dense.py:85: UserWarning: Do not pass an `input_shape`/`input_dim` argument to a layer. When using Sequential models, prefer using an `Input(shape)` object as the first layer in the model instead.\n",
      "  super().__init__(activity_regularizer=activity_regularizer, **kwargs)\n"
     ]
    },
    {
     "name": "stdout",
     "output_type": "stream",
     "text": [
      "\u001b[1m4478/4478\u001b[0m \u001b[32m━━━━━━━━━━━━━━━━━━━━\u001b[0m\u001b[37m\u001b[0m \u001b[1m9s\u001b[0m 2ms/step - acc: 0.7080 - loss: 0.7259 - val_acc: 0.7283 - val_loss: 0.6734\n",
      "Epoch 2/10\n",
      "\u001b[1m4478/4478\u001b[0m \u001b[32m━━━━━━━━━━━━━━━━━━━━\u001b[0m\u001b[37m\u001b[0m \u001b[1m8s\u001b[0m 2ms/step - acc: 0.7320 - loss: 0.6689 - val_acc: 0.7278 - val_loss: 0.6742\n",
      "Epoch 3/10\n",
      "\u001b[1m4478/4478\u001b[0m \u001b[32m━━━━━━━━━━━━━━━━━━━━\u001b[0m\u001b[37m\u001b[0m \u001b[1m8s\u001b[0m 2ms/step - acc: 0.7307 - loss: 0.6683 - val_acc: 0.7298 - val_loss: 0.6736\n",
      "Epoch 4/10\n",
      "\u001b[1m4478/4478\u001b[0m \u001b[32m━━━━━━━━━━━━━━━━━━━━\u001b[0m\u001b[37m\u001b[0m \u001b[1m9s\u001b[0m 2ms/step - acc: 0.7292 - loss: 0.6725 - val_acc: 0.7252 - val_loss: 0.6927\n",
      "Epoch 5/10\n",
      "\u001b[1m4478/4478\u001b[0m \u001b[32m━━━━━━━━━━━━━━━━━━━━\u001b[0m\u001b[37m\u001b[0m \u001b[1m6s\u001b[0m 1ms/step - acc: 0.7305 - loss: 0.6713 - val_acc: 0.7229 - val_loss: 0.6897\n",
      "Epoch 6/10\n",
      "\u001b[1m4478/4478\u001b[0m \u001b[32m━━━━━━━━━━━━━━━━━━━━\u001b[0m\u001b[37m\u001b[0m \u001b[1m8s\u001b[0m 2ms/step - acc: 0.7252 - loss: 0.6808 - val_acc: 0.7273 - val_loss: 0.6852\n",
      "Epoch 7/10\n",
      "\u001b[1m4478/4478\u001b[0m \u001b[32m━━━━━━━━━━━━━━━━━━━━\u001b[0m\u001b[37m\u001b[0m \u001b[1m8s\u001b[0m 2ms/step - acc: 0.7290 - loss: 0.6800 - val_acc: 0.7265 - val_loss: 0.7221\n",
      "Epoch 8/10\n",
      "\u001b[1m4478/4478\u001b[0m \u001b[32m━━━━━━━━━━━━━━━━━━━━\u001b[0m\u001b[37m\u001b[0m \u001b[1m7s\u001b[0m 2ms/step - acc: 0.7292 - loss: 0.6839 - val_acc: 0.7273 - val_loss: 0.6948\n",
      "Epoch 9/10\n",
      "\u001b[1m4478/4478\u001b[0m \u001b[32m━━━━━━━━━━━━━━━━━━━━\u001b[0m\u001b[37m\u001b[0m \u001b[1m8s\u001b[0m 2ms/step - acc: 0.7267 - loss: 0.6936 - val_acc: 0.7255 - val_loss: 0.7016\n",
      "Epoch 10/10\n",
      "\u001b[1m4478/4478\u001b[0m \u001b[32m━━━━━━━━━━━━━━━━━━━━\u001b[0m\u001b[37m\u001b[0m \u001b[1m8s\u001b[0m 2ms/step - acc: 0.7283 - loss: 0.6877 - val_acc: 0.7215 - val_loss: 0.7024\n"
     ]
    }
   ],
   "source": [
    "#Creating X and y\n",
    "X = spotify2.drop('popularity', axis=1)\n",
    "y = spotify2['popularity']\n",
    "\n",
    "#TTS on X and y\n",
    "X_train, X_test, y_train, y_test = train_test_split(X, y, random_state=123)\n",
    "\n",
    "#Scaling, fitting, and transforming the data\n",
    "sc = StandardScaler()\n",
    "X_train_sc = sc.fit_transform(X_train)\n",
    "X_test_sc = sc.transform(X_test)\n",
    "\n",
    "#Checking the shape of X_train \n",
    "X_train.shape\n",
    "\n",
    "#Creating dnn1\n",
    "col = X_train.shape[1]\n",
    "dnn1 = Sequential()\n",
    "dnn1.add(Dense(100, activation='relu', input_shape=(col,)))\n",
    "dnn1.add(Dense(50, activation='relu'))\n",
    "dnn1.add(Dense(5, activation='softmax'))\n",
    "\n",
    "#Compiling Model\n",
    "dnn1.compile(loss='crossentropy', optimizer='rmsprop', metrics=['acc'])\n",
    "\n",
    "#Fitting the model\n",
    "hist1 = dnn1.fit(\n",
    "    X_train_sc, y_train,\n",
    "    validation_data=(X_test_sc, y_test),\n",
    "    batch_size=32,\n",
    "    epochs=10\n",
    ")"
   ]
  },
  {
   "cell_type": "code",
   "execution_count": null,
   "id": "5ff14de4-7b0f-417a-b16c-df73054bb6c3",
   "metadata": {},
   "outputs": [],
   "source": []
  }
 ],
 "metadata": {
  "kernelspec": {
   "display_name": "Python 3 (ipykernel)",
   "language": "python",
   "name": "python3"
  },
  "language_info": {
   "codemirror_mode": {
    "name": "ipython",
    "version": 3
   },
   "file_extension": ".py",
   "mimetype": "text/x-python",
   "name": "python",
   "nbconvert_exporter": "python",
   "pygments_lexer": "ipython3",
   "version": "3.11.5"
  }
 },
 "nbformat": 4,
 "nbformat_minor": 5
}
