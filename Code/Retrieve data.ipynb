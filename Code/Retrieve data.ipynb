{
 "cells": [
  {
   "cell_type": "code",
   "execution_count": 9,
   "id": "5fddca4b",
   "metadata": {},
   "outputs": [],
   "source": [
    "import timeit\n",
    "import spotipy\n",
    "from spotipy.oauth2 import SpotifyClientCredentials"
   ]
  },
  {
   "cell_type": "code",
   "execution_count": 4,
   "id": "b6feae35",
   "metadata": {},
   "outputs": [],
   "source": [
    "with open('./Text.txt') as input_file:\n",
    "    split_line = []\n",
    "    for line in input_file:\n",
    "        c_line = line.rstrip()\n",
    "        split_line += c_line.split('=')\n",
    "\n",
    "    keys = []\n",
    "    values = []\n",
    "    \n",
    "    for i in range(0,len(split_line)):\n",
    "        if i%2 ==0:\n",
    "            keys.append(split_line[i].strip())\n",
    "        else:\n",
    "            values.append(split_line[i].strip())\n",
    "    res = dict(map(lambda i,j : (i,j) , keys,values))"
   ]
  },
  {
   "cell_type": "code",
   "execution_count": 7,
   "id": "dcc08520",
   "metadata": {},
   "outputs": [],
   "source": [
    "sp = spotipy.Spotify(client_credentials_manager=SpotifyClientCredentials(\n",
    "    client_id=res['SPOTIPY_CLIENT_ID'],\n",
    "    client_secret = res['SPOTIPY_CLIENT_SECRECT']\n",
    "    )\n",
    ")"
   ]
  },
  {
   "cell_type": "code",
   "execution_count": 19,
   "id": "402ff852",
   "metadata": {},
   "outputs": [
    {
     "name": "stdout",
     "output_type": "stream",
     "text": [
      "Time to run this code (in seconds): 11.247946090064943\n"
     ]
    }
   ],
   "source": [
    "# timeit library to measure the time needed to run this code\n",
    "\n",
    "start = timeit.default_timer()\n",
    "\n",
    "# create empty lists where the results are going to be stored\n",
    "artist_name = []\n",
    "track_name = []\n",
    "popularity = []\n",
    "track_id = []\n",
    "\n",
    "for i in range(0, 1000, 50):\n",
    "    track_results = sp.search(q='year:2023', type='track', limit=50, offset=i)\n",
    "\n",
    "    for t in track_results['tracks']['items']:\n",
    "        release_year = int(t['album']['release_date'][:4])  # Extract the year from the release date and convert to integer\n",
    "        if 2017 <= release_year <= 2023:\n",
    "            artist_name.append(t['artists'][0]['name'])\n",
    "            track_name.append(t['name'])\n",
    "            track_id.append(t['id'])\n",
    "            popularity.append(t['popularity'])\n",
    "\n",
    "\n",
    "stop = timeit.default_timer()\n",
    "print('Time to run this code (in seconds):', stop - start)"
   ]
  },
  {
   "cell_type": "code",
   "execution_count": 24,
   "id": "2c6728fa",
   "metadata": {},
   "outputs": [
    {
     "data": {
      "text/plain": [
       "50"
      ]
     },
     "execution_count": 24,
     "metadata": {},
     "output_type": "execute_result"
    }
   ],
   "source": [
    "len(track_results['tracks']['items'])"
   ]
  },
  {
   "cell_type": "code",
   "execution_count": null,
   "id": "3e244522",
   "metadata": {},
   "outputs": [],
   "source": [
    "birdy_uri = 'spotify:artist:2WX2uTcsvV5OnS0inACecP'\n",
    "spotify = spotipy.Spotify(client_credentials_manager=SpotifyClientCredentials(\n",
    "    client_id=res['SPOTIPY_CLIENT_ID'],\n",
    "    client_secret = res['SPOTIPY_CLIENT_SECRECT']\n",
    "    )\n",
    ")\n",
    "\n",
    "results = spotify.artist_albums(birdy_uri, album_type='album')\n",
    "albums = results['items']\n",
    "while results['next']:\n",
    "    results = spotify.next(results)\n",
    "    albums.extend(results['items'])\n",
    "\n",
    "for album in albums:\n",
    "    print(album['name'])"
   ]
  },
  {
   "cell_type": "code",
   "execution_count": null,
   "id": "c0a47c0e",
   "metadata": {},
   "outputs": [],
   "source": [
    "def get_tracks_data(spotify_client, query, chunk_size, max_results):\n",
    "\n",
    "    tracks_data_list = []\n",
    "    single_track_dict = {}\n",
    "\n",
    "    for i in range(0, max_results, chunk_size):\n",
    "        try:\n",
    "            track_results = spotify_client.search(q=query, type='track', limit=50,offset=i)\n",
    "            for i, track in enumerate(track_results['tracks']['items']):                              \n",
    "                single_track_dict = {                                       \n",
    "                    'track_name': track['name'],\n",
    "                    'artist_name': track['artists'][0]['name'],\n",
    "                    'track_id': track['id']            \n",
    "                }\n",
    "                tracks_data_list.append(single_track_dict)\n",
    "        except Exception as e:\n",
    "            print(e)\n",
    "            logger.info(e)\n",
    "            continue\n",
    "\n",
    "    return tracks_data_list"
   ]
  },
  {
   "cell_type": "code",
   "execution_count": null,
   "id": "64b07159",
   "metadata": {},
   "outputs": [],
   "source": [
    "playlist_link = \"https://open.spotify.com/playlist/37i9dQZEVXbNG2KDcFcKOF?si=1333723a6eff4b7f\"\n",
    "playlist_URI = playlist_link.split(\"/\")[-1].split(\"?\")[0]\n",
    "track_uris = [x[\"track\"][\"uri\"] for x in sp.playlist_tracks(playlist_URI)[\"items\"]]"
   ]
  },
  {
   "cell_type": "code",
   "execution_count": null,
   "id": "bdc7ed44",
   "metadata": {},
   "outputs": [],
   "source": [
    "def get_audio_features_data(spotify_client, track_ids, chunk_size):\n",
    "    audio_features_list = []\n",
    "\n",
    "    for i in range(0, len(track_ids), chunk_size):    \n",
    "        try:\n",
    "            track_id_list = track_ids[i:i+chunk_size]\n",
    "            results = spotify_client.audio_features(track_id_list)\n",
    "            results = [dict({'id':'None'}) if v is None else v for v in results]\n",
    "            audio_features_list.extend(results)\n",
    "        except Exception as e:\n",
    "            print(e)\n",
    "            logger.info(e)\n",
    "            continue\n",
    "    return audio_features_list"
   ]
  },
  {
   "cell_type": "code",
   "execution_count": null,
   "id": "da8e5c73",
   "metadata": {},
   "outputs": [],
   "source": [
    "def insert_bigquery(client, project_id, dataset_id, table_id, data):\n",
    "\n",
    "    table_id = \"{}.{}.{}\".format(project_id, dataset_id, table_id)\n",
    "    job_config = bigquery.LoadJobConfig(autodetect=True, write_disposition=bigquery.WriteDisposition.WRITE_APPEND, schema_update_options = bigquery.SchemaUpdateOption.ALLOW_FIELD_ADDITION)\n",
    "    job = client.load_table_from_json(destination=table_id, json_rows=data, job_config=job_config)\n",
    "\n",
    "    logger.info(\"Successfully uploaded to table {}\".format(table_id))\n"
   ]
  },
  {
   "cell_type": "code",
   "execution_count": null,
   "id": "71fd2753",
   "metadata": {},
   "outputs": [],
   "source": [
    "def get_spotify_audio_features_data_to_bigquery(event, context):\n",
    "    \"\"\"\n",
    "    This function combines data from 2 Spotify endpoints:\n",
    "    1. v1/search\n",
    "    2. v1/audio-features\n",
    "    and loads it into BigQuery\n",
    "    \"\"\"\n",
    "\n",
    "    client_id = os.environ['CID']\n",
    "    client_secret = os.environ['SECRET']\n",
    "    project_id = os.environ['PROJECT_ID']\n",
    "    dataset_id = os.environ['DATASET_ID']\n",
    "    table_id = os.environ['TABLE_ID']\n",
    "\n",
    "    client_credentials_manager = SpotifyClientCredentials(client_id=client_id, client_secret=client_secret)\n",
    "    spotify_client = spotipy.Spotify(client_credentials_manager=client_credentials_manager)\n",
    "        \n",
    "    tracks_data_list = get_tracks_data(spotify_client, 'year:2021', 50, 1000)\n",
    "    track_ids = [d['track_id'] for d in tracks_data_list]\n",
    "    audio_features_list = get_audio_features_data(spotify_client, track_ids, 100)\n",
    "    merged_list = [{**u, **v} for u, v in zip(tracks_data_list, audio_features_list)]\n",
    "    \n",
    "    client = bigquery.Client()\n",
    "\n",
    "    insert_bigquery(client, project_id, dataset_id, table_id, merged_list)"
   ]
  }
 ],
 "metadata": {
  "kernelspec": {
   "display_name": "Python 3 (ipykernel)",
   "language": "python",
   "name": "python3"
  },
  "language_info": {
   "codemirror_mode": {
    "name": "ipython",
    "version": 3
   },
   "file_extension": ".py",
   "mimetype": "text/x-python",
   "name": "python",
   "nbconvert_exporter": "python",
   "pygments_lexer": "ipython3",
   "version": "3.11.5"
  }
 },
 "nbformat": 4,
 "nbformat_minor": 5
}
